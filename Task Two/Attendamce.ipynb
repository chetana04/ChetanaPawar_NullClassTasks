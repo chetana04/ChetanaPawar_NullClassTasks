{
 "cells": [
  {
   "cell_type": "code",
   "execution_count": 1,
   "metadata": {},
   "outputs": [],
   "source": [
    "import cv2\n",
    "import numpy as np\n",
    "import face_recognition\n",
    "import pandas as pd\n",
    "import os\n",
    "import time\n",
    "from datetime import datetime\n",
    "from tensorflow.keras.models import load_model\n",
    "from tensorflow.keras.preprocessing.image import img_to_array\n",
    "from collections import Counter"
   ]
  },
  {
   "cell_type": "code",
   "execution_count": 2,
   "metadata": {},
   "outputs": [],
   "source": [
    "current_time = datetime.now().time()\n",
    "start_time = datetime.strptime(\"08:00:00\", \"%H:%M:%S\").time()\n",
    "end_time = datetime.strptime(\"14:00:00\", \"%H:%M:%S\").time()\n",
    "\n",
    "if not (start_time <= current_time <= end_time):\n",
    "    print(\"Current TIme: \", current_time)\n",
    "    print(\"Application can only run between 8 AM and 9 AM.\")\n",
    "    exit()"
   ]
  },
  {
   "cell_type": "code",
   "execution_count": 3,
   "metadata": {},
   "outputs": [
    {
     "name": "stdout",
     "output_type": "stream",
     "text": [
      "2.18.0\n"
     ]
    }
   ],
   "source": [
    "import tensorflow as tf\n",
    "print(tf.__version__)"
   ]
  },
  {
   "cell_type": "code",
   "execution_count": 3,
   "metadata": {},
   "outputs": [
    {
     "name": "stdout",
     "output_type": "stream",
     "text": [
      "Training images: ['Chetana.jpg', 'Jayadas.jpg', 'Mrunmayee.jpg', 'Netra.jpg', 'Yash.jpg']\n"
     ]
    }
   ],
   "source": [
    "path = 'Training_Images/Training_Images'\n",
    "images = []\n",
    "classNames = []\n",
    "myList = os.listdir(path)\n",
    "print(\"Training images:\", myList)\n",
    "\n",
    "for cl in myList:\n",
    "    curImg = cv2.imread(f'{path}/{cl}')\n",
    "    images.append(curImg)\n",
    "    classNames.append(os.path.splitext(cl)[0])"
   ]
  },
  {
   "cell_type": "code",
   "execution_count": 4,
   "metadata": {},
   "outputs": [
    {
     "name": "stdout",
     "output_type": "stream",
     "text": [
      "Encoding Complete\n"
     ]
    }
   ],
   "source": [
    "def findEncodings(images):\n",
    "    encodeList = []\n",
    "    for img in images:\n",
    "        img = cv2.cvtColor(img, cv2.COLOR_BGR2RGB)\n",
    "        encodings = face_recognition.face_encodings(img)\n",
    "        if len(encodings) > 0:\n",
    "            encodeList.append(encodings[0])\n",
    "    return encodeList\n",
    "\n",
    "encodeListKnown = findEncodings(images)\n",
    "print('Encoding Complete')"
   ]
  },
  {
   "cell_type": "code",
   "execution_count": null,
   "metadata": {},
   "outputs": [],
   "source": [
    "# def markAttendance(name):\n",
    "#     with open('Attendance.csv', 'r+') as f:\n",
    "#         myDataList = f.readlines()\n",
    "\n",
    "\n",
    "#         nameList = []\n",
    "#         for line in myDataList:\n",
    "#             entry = line.split(',')\n",
    "#             nameList.append(entry[0])\n",
    "#             if name not in nameList:\n",
    "#                 now = datetime.now()\n",
    "#                 dtString = now.strftime(\"%m/%d/%Y,%H:%M:%S\")\n",
    "#                 f.writelines(f'\\n{name},{dtString}')"
   ]
  },
  {
   "cell_type": "code",
   "execution_count": null,
   "metadata": {},
   "outputs": [],
   "source": [
    "#### FOR CAPTURING SCREEN RATHER THAN WEBCAM\n",
    "# def captureScreen(bbox=(300,300,690+300,530+300)):\n",
    "#     capScr = np.array(ImageGrab.grab(bbox))\n",
    "#     capScr = cv2.cvtColor(capScr, cv2.COLOR_RGB2BGR)\n",
    "#     return capScr"
   ]
  },
  {
   "cell_type": "code",
   "execution_count": 5,
   "metadata": {},
   "outputs": [
    {
     "name": "stderr",
     "output_type": "stream",
     "text": [
      "WARNING:absl:Compiled the loaded model, but the compiled metrics have yet to be built. `model.compile_metrics` will be empty until you train or evaluate the model.\n"
     ]
    }
   ],
   "source": [
    "emotion_model = load_model(\"emotion_model.h5\")"
   ]
  },
  {
   "cell_type": "code",
   "execution_count": 6,
   "metadata": {},
   "outputs": [],
   "source": [
    "emotion_labels = ['Angry', 'Happy', 'Sad', 'Surprise', 'Neutral']"
   ]
  },
  {
   "cell_type": "code",
   "execution_count": 7,
   "metadata": {},
   "outputs": [],
   "source": [
    "csv_file = \"Attendance.csv\"\n",
    "if not os.path.exists(csv_file) or os.stat(csv_file).st_size == 0:\n",
    "    df = pd.DataFrame(columns = [\"Name\", \"Date\", \"Time\", \"Emotion\"])\n",
    "    df.to_csv(csv_file, index = False)"
   ]
  },
  {
   "cell_type": "code",
   "execution_count": 8,
   "metadata": {},
   "outputs": [],
   "source": [
    "def markAttendance(name, emotion):\n",
    "    now = datetime.now()\n",
    "    date_today = now.strftime(\"%Y-%m-%d\")\n",
    "    time_now = now.strftime(\"%H:%M:%S\")\n",
    "\n",
    "    new_entry = pd.DataFrame([[name, date_today, time_now, emotion]], \n",
    "                              columns = [\"Name\", \"Date\", \"Time\", \"Emotion\"])\n",
    "\n",
    "    new_entry.to_csv(csv_file, mode = 'a', header=not os.path.exists(csv_file), index = False)\n",
    "    \n",
    "    print(f\"Attendance Marked for {name} at {time_now} with Emotion: {emotion}\")"
   ]
  },
  {
   "cell_type": "code",
   "execution_count": 10,
   "metadata": {},
   "outputs": [
    {
     "name": "stdout",
     "output_type": "stream",
     "text": [
      "\u001b[1m1/1\u001b[0m \u001b[32m━━━━━━━━━━━━━━━━━━━━\u001b[0m\u001b[37m\u001b[0m \u001b[1m0s\u001b[0m 94ms/step\n",
      "\u001b[1m1/1\u001b[0m \u001b[32m━━━━━━━━━━━━━━━━━━━━\u001b[0m\u001b[37m\u001b[0m \u001b[1m0s\u001b[0m 101ms/step\n",
      "\u001b[1m1/1\u001b[0m \u001b[32m━━━━━━━━━━━━━━━━━━━━\u001b[0m\u001b[37m\u001b[0m \u001b[1m0s\u001b[0m 86ms/step\n",
      "\u001b[1m1/1\u001b[0m \u001b[32m━━━━━━━━━━━━━━━━━━━━\u001b[0m\u001b[37m\u001b[0m \u001b[1m0s\u001b[0m 88ms/step\n",
      "\u001b[1m1/1\u001b[0m \u001b[32m━━━━━━━━━━━━━━━━━━━━\u001b[0m\u001b[37m\u001b[0m \u001b[1m0s\u001b[0m 87ms/step\n",
      "Attendance Marked for CHETANA at 13:27:19 with Emotion: Happy\n"
     ]
    }
   ],
   "source": [
    "cap = cv2.VideoCapture(0)\n",
    "start_time = time.time()  \n",
    "emotion_counts = Counter()  \n",
    "\n",
    "while time.time() - start_time < 5: \n",
    "    success, img = cap.read()\n",
    "    if not success:\n",
    "        break\n",
    "\n",
    "    imgS = cv2.resize(img, (0, 0), None, 0.25, 0.25)\n",
    "    imgS = cv2.cvtColor(imgS, cv2.COLOR_BGR2RGB)\n",
    "\n",
    "    facesCurFrame = face_recognition.face_locations(imgS)\n",
    "    encodesCurFrame = face_recognition.face_encodings(imgS, facesCurFrame)\n",
    "\n",
    "    for encodeFace, faceLoc in zip(encodesCurFrame, facesCurFrame):\n",
    "        if encodeFace is None or len(encodeFace) == 0:\n",
    "            continue  \n",
    "\n",
    "        matches = face_recognition.compare_faces(encodeListKnown, encodeFace)\n",
    "        if not matches:\n",
    "            continue  \n",
    "\n",
    "        faceDis = face_recognition.face_distance(encodeListKnown, encodeFace)\n",
    "        if len(faceDis) == 0:\n",
    "            continue\n",
    "\n",
    "        matchIndex = np.argmin(faceDis)\n",
    "\n",
    "        if matches[matchIndex]:\n",
    "            name = classNames[matchIndex].upper()\n",
    "            y1, x2, y2, x1 = faceLoc\n",
    "            y1, x2, y2, x1 = y1 * 4, x2 * 4, y2 * 4, x1 * 4\n",
    "\n",
    "            face_roi = img[y1:y2, x1:x2]\n",
    "            if face_roi.size == 0:\n",
    "                print(\"Empty face region detected, skipping\")\n",
    "                continue\n",
    "\n",
    "            face_gray = cv2.cvtColor(face_roi, cv2.COLOR_BGR2GRAY)\n",
    "            face_gray = cv2.resize(face_gray, (48, 48))\n",
    "            face_gray = face_gray.astype(\"float32\") / 255.0  \n",
    "            face_gray = np.expand_dims(face_gray, axis = -1) \n",
    "            face_gray = np.expand_dims(face_gray, axis = 0)   \n",
    "\n",
    "            emotion_prediction = emotion_model.predict(face_gray)\n",
    "            emotion_label = emotion_labels[np.argmax(emotion_prediction)]\n",
    "\n",
    "            emotion_counts[emotion_label] += 1\n",
    "\n",
    "            cv2.rectangle(img, (x1, y1), (x2, y2), (0, 255, 0), 2)\n",
    "            cv2.rectangle(img, (x1, y2 - 35), (x2, y2), (0, 255, 0), cv2.FILLED)\n",
    "            cv2.putText(img, f\"{name} ({emotion_label})\", (x1 + 6, y2 - 6), cv2.FONT_HERSHEY_COMPLEX, 1, (255, 255, 255), 2)\n",
    "\n",
    "    cv2.imshow(\"Webcam\", img)\n",
    "    \n",
    "    if cv2.waitKey(1) & 0xFF == ord('q'):\n",
    "        break\n",
    "\n",
    "cap.release()\n",
    "cv2.destroyAllWindows()\n",
    "\n",
    "if emotion_counts:\n",
    "    most_common_emotion = emotion_counts.most_common(1)[0][0]  \n",
    "    markAttendance(name, most_common_emotion)  "
   ]
  },
  {
   "cell_type": "code",
   "execution_count": null,
   "metadata": {},
   "outputs": [],
   "source": []
  },
  {
   "cell_type": "code",
   "execution_count": null,
   "metadata": {},
   "outputs": [],
   "source": []
  }
 ],
 "metadata": {
  "kernelspec": {
   "display_name": "Python 3",
   "language": "python",
   "name": "python3"
  },
  "language_info": {
   "codemirror_mode": {
    "name": "ipython",
    "version": 3
   },
   "file_extension": ".py",
   "mimetype": "text/x-python",
   "name": "python",
   "nbconvert_exporter": "python",
   "pygments_lexer": "ipython3",
   "version": "3.10.0"
  }
 },
 "nbformat": 4,
 "nbformat_minor": 2
}
